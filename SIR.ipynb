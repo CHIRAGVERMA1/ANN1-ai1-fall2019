{
  "nbformat": 4,
  "nbformat_minor": 0,
  "metadata": {
    "colab": {
      "name": "Untitled8.ipynb",
      "provenance": [],
      "authorship_tag": "ABX9TyPwMszE5MyPrWWZlfIWBdx5",
      "include_colab_link": true
    },
    "kernelspec": {
      "name": "python3",
      "display_name": "Python 3"
    }
  },
  "cells": [
    {
      "cell_type": "markdown",
      "metadata": {
        "id": "view-in-github",
        "colab_type": "text"
      },
      "source": [
        "<a href=\"https://colab.research.google.com/github/CHIRAGVERMA1/ANN1-ai1-fall2019/blob/master/SIR.ipynb\" target=\"_parent\"><img src=\"https://colab.research.google.com/assets/colab-badge.svg\" alt=\"Open In Colab\"/></a>"
      ]
    },
    {
      "cell_type": "markdown",
      "metadata": {
        "id": "eFgyjzq_JCSL",
        "colab_type": "text"
      },
      "source": [
        "#SIR MODEL\n",
        "S'=-BETA*S*I\n",
        "I'=BETA*S*I-NU*I\n",
        "R'=NU*I"
      ]
    },
    {
      "cell_type": "code",
      "metadata": {
        "id": "urPc2FjxJG_j",
        "colab_type": "code",
        "colab": {}
      },
      "source": [
        "import numpy as np\n",
        "import scipy as sp\n",
        "import matplotlib.pyplot as plt"
      ],
      "execution_count": 0,
      "outputs": []
    },
    {
      "cell_type": "code",
      "metadata": {
        "id": "zoAWfBapKkDd",
        "colab_type": "code",
        "colab": {}
      },
      "source": [
        "#ODEs\n",
        "def SIR_model(y, t, beta, gamma):\n",
        "  S, I, R = y\n",
        "  dS_dt = -beta*S*I\n",
        "  dI_dt = beta*S*I - gamma*I\n",
        "  dR_dt = gamma*I\n",
        "\n",
        "  return([dS_dt, dI_dt, dR_dt])\n"
      ],
      "execution_count": 0,
      "outputs": []
    },
    {
      "cell_type": "code",
      "metadata": {
        "id": "vGMpiWKgL81H",
        "colab_type": "code",
        "colab": {}
      },
      "source": [
        "# initial condition\n",
        "S0 =\n",
        "I0 =\n",
        "R0 =\n",
        "beta =\n",
        "gamma =\n",
        "\n",
        "# time vector\n",
        "t = numpy.linspace(0, 100, 10000)\n",
        "\n",
        "# result \n",
        "solution = script.intigrate.odeint(SIR_model, [S0, I0, R0], t, args(beta, gamma))\n",
        "solution = numpy.array(sollution)\n",
        "\n"
      ],
      "execution_count": 0,
      "outputs": []
    },
    {
      "cell_type": "code",
      "metadata": {
        "id": "uJK89VY6NJuw",
        "colab_type": "code",
        "colab": {}
      },
      "source": [
        "#plot results\n",
        "plt.figure"
      ],
      "execution_count": 0,
      "outputs": []
    }
  ]
}