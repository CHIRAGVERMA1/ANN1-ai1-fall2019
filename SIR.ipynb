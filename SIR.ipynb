{
  "nbformat": 4,
  "nbformat_minor": 0,
  "metadata": {
    "colab": {
      "name": "Untitled12.ipynb",
      "provenance": [],
      "authorship_tag": "ABX9TyPqkCAYiUf+SfWIWzLxjbbS",
      "include_colab_link": true
    },
    "kernelspec": {
      "name": "python3",
      "display_name": "Python 3"
    }
  },
  "cells": [
    {
      "cell_type": "markdown",
      "metadata": {
        "id": "view-in-github",
        "colab_type": "text"
      },
      "source": [
        "<a href=\"https://colab.research.google.com/github/CHIRAGVERMA1/ANN1-ai1-fall2019/blob/master/SIR.ipynb\" target=\"_parent\"><img src=\"https://colab.research.google.com/assets/colab-badge.svg\" alt=\"Open In Colab\"/></a>"
      ]
    },
    {
      "cell_type": "code",
      "metadata": {
        "id": "RF61jp2NOrp_",
        "colab_type": "code",
        "colab": {}
      },
      "source": [
        "import numpy as np \n",
        "from tqdm import tqdm\n",
        "\n",
        "class ODESolver:\n",
        "    \"\"\"ODESolver superclass\n",
        "    Any classes inheriting from this superclass must implement\n",
        "    advance() method.\n",
        "    \"\"\"\n",
        "\n",
        "    def __init__(self, f):\n",
        "        self.f = f \n",
        "\n",
        "    def advance(self):\n",
        "        \"\"\"Advance solution one time step.\"\"\"\n",
        "        raise NotImplementedError\n",
        "    \n",
        "    def set_initial_conditions(self, U0):\n",
        "        if isinstance(U0, (int, float)):\n",
        "            # Scalar ODE\n",
        "            self.number_of_eqns = 1\n",
        "            U0 = float(U0)\n",
        "        else:\n",
        "            # System of eqns \n",
        "            U0 = np.asarray(U0)\n",
        "            self.number_of_eqns = U0.size \n",
        "        self.U0 = U0\n",
        "    \n",
        "    def solve(self, time_points):\n",
        "\n",
        "        self.t = np.asarray(time_points)\n",
        "        n = self.t.size \n",
        "        \n",
        "        self.u = np.zeros((n, self.number_of_eqns))\n",
        "\n",
        "        self.u[0, :] = self.U0 \n",
        "\n",
        "        # Integrate \n",
        "        for i in tqdm(range(n - 1), ascii=True):\n",
        "            self.i = i\n",
        "            self.u[i + 1] = self.advance()\n",
        "\n",
        "        return self.u[:i+2], self.t[:i+2]\n",
        "\n",
        "class ForwardEuler(ODESolver):\n",
        "    def advance(self):\n",
        "        u, f, i, t = self.u, self.f, self.i, self.t \n",
        "        dt = t[i + 1] - t[i]\n",
        "        return u[i, :] + dt * f(u[i, :], t[i])"
      ],
      "execution_count": 0,
      "outputs": []
    },
    {
      "cell_type": "code",
      "metadata": {
        "id": "rFFIe14NOtIf",
        "colab_type": "code",
        "colab": {
          "base_uri": "https://localhost:8080/",
          "height": 343
        },
        "outputId": "6fabea94-0b9b-40c5-da9c-2922b11865f3"
      },
      "source": [
        "import numpy as np\n",
        "from matplotlib import pyplot as plt\n",
        "\n",
        "class SIR:\n",
        "    def __init__(self, nu, beta, S0, I0, R0):\n",
        "        \"\"\"\n",
        "        nu, beta: parameters in the ODE system\n",
        "        S0, I0, R0: initial values\n",
        "        \"\"\"\n",
        "\n",
        "        if isinstance(nu, (float, int)):\n",
        "            # Is number?\n",
        "            self.nu = lambda t: nu \n",
        "        elif callable(nu):\n",
        "            self.nu = nu\n",
        "\n",
        "        if isinstance(beta, (float, int)):\n",
        "            self.beta = lambda t: beta \n",
        "        elif callable(beta):\n",
        "            self.beta = beta\n",
        "\n",
        "        self.initial_conditions = [S0, I0, R0]\n",
        "\n",
        "    def __call__(self, u, t):\n",
        "\n",
        "        S, I, _ = u \n",
        "\n",
        "        return np.asarray([\n",
        "            -self.beta(t)*S*I, # Susceptibles\n",
        "            self.beta(t)*S*I - self.nu(t)*I, # Infected\n",
        "            self.nu(t)*I # Recovered\n",
        "        ])\n",
        "\n",
        "if __name__ == \"__main__\":\n",
        "\n",
        "    sir = SIR(0.06, 0.109, 13526000000, 1, 0)\n",
        "    solver = ForwardEuler(sir)\n",
        "    solver.set_initial_conditions(sir.initial_conditions)\n",
        "\n",
        "    time_steps = np.linspace(0, 120, 2000000)\n",
        "    u, t = solver.solve(time_steps)\n",
        "\n",
        "    plt.plot(t, u[:, 0], label=\"Susceptible\")\n",
        "    plt.plot(t, u[:, 1], label=\"Infected\")\n",
        "    plt.plot(t, u[:, 2], label=\"Recovered\")\n",
        "    plt.legend()\n",
        "    plt.show()"
      ],
      "execution_count": 4,
      "outputs": [
        {
          "output_type": "stream",
          "text": [
            "  0%|          | 0/1999999 [00:00<?, ?it/s]/usr/local/lib/python3.6/dist-packages/ipykernel_launcher.py:29: RuntimeWarning: overflow encountered in double_scalars\n",
            "/usr/local/lib/python3.6/dist-packages/ipykernel_launcher.py:30: RuntimeWarning: overflow encountered in double_scalars\n",
            "/usr/local/lib/python3.6/dist-packages/ipykernel_launcher.py:30: RuntimeWarning: invalid value encountered in double_scalars\n",
            "100%|##########| 1999999/1999999 [00:29<00:00, 67441.83it/s]\n"
          ],
          "name": "stderr"
        },
        {
          "output_type": "display_data",
          "data": {
            "image/png": "[encoded data removed]",
            "text/plain": [
              "<Figure size 432x288 with 1 Axes>"
            ]
          },
          "metadata": {
            "tags": [],
            "needs_background": "light"
          }
        }
      ]
    }
  ]
}